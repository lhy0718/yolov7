{
 "cells": [
  {
   "cell_type": "code",
   "execution_count": 53,
   "metadata": {},
   "outputs": [
    {
     "name": "stdout",
     "output_type": "stream",
     "text": [
      "Fusing layers... \n",
      "2\n",
      "torch.Size([1, 25200, 85])\n",
      "3\n",
      "torch.Size([1, 3, 80, 80, 85])\n",
      "torch.Size([1, 3, 40, 40, 85])\n"
     ]
    }
   ],
   "source": [
    "import torch\n",
    "from models.experimental import attempt_load\n",
    "\n",
    "model = attempt_load('yolov7-tiny.pt')\n",
    "model.eval()\n",
    "\n",
    "input_tensor = torch.rand((1,640,640,3)).to('cuda:0') * 255\n",
    "\n",
    "out = model(input_tensor)\n",
    "print(len(out))\n",
    "print(out[0].shape)\n",
    "print(len(out[1]))\n",
    "print(out[1][0].shape)\n",
    "print(out[1][1].shape)"
   ]
  },
  {
   "cell_type": "code",
   "execution_count": 42,
   "metadata": {},
   "outputs": [
    {
     "name": "stdout",
     "output_type": "stream",
     "text": [
      "2\n",
      "torch.Size([1, 25200, 85])\n",
      "torch.Size([1, 3, 80, 80, 85])\n",
      "torch.Size([1, 3, 40, 40, 85])\n"
     ]
    }
   ],
   "source": [
    "import torch\n",
    "\n",
    "model = torch.jit.load('yolov7-tiny.torchscript.ptl')\n",
    "input_tensor = torch.rand((1,640,640,3)) * 255\n",
    "\n",
    "out = model(input_tensor)\n",
    "print(len(out))\n",
    "print(out[0].shape)\n",
    "print(out[1][0].shape)\n",
    "print(out[1][1].shape)"
   ]
  },
  {
   "cell_type": "code",
   "execution_count": 46,
   "metadata": {},
   "outputs": [
    {
     "data": {
      "text/plain": [
       "(100, 7)"
      ]
     },
     "execution_count": 46,
     "metadata": {},
     "output_type": "execute_result"
    }
   ],
   "source": [
    "import onnx\n",
    "import onnxruntime\n",
    "import torch\n",
    "\n",
    "onnx_model_path = \"yolov7-tiny.onnx\"\n",
    "\n",
    "input_tensor = torch.rand((1,640,640,3)) * 255\n",
    "\n",
    "onnx_model = onnx.load(onnx_model_path)  # load onnx model\n",
    "onnx.checker.check_model(onnx_model)\n",
    "\n",
    "ort_session = onnxruntime.InferenceSession(onnx_model_path)\n",
    "\n",
    "def to_numpy(tensor):\n",
    "    return tensor.detach().cpu().numpy() if tensor.requires_grad else tensor.cpu().numpy()\n",
    "\n",
    "# ONNX 런타임에서 계산된 결과값\n",
    "ort_inputs = {ort_session.get_inputs()[0].name: to_numpy(input_tensor)}\n",
    "ort_outs = ort_session.run(None, ort_inputs)\n",
    "\n",
    "ort_outs[0].shape"
   ]
  },
  {
   "cell_type": "code",
   "execution_count": 51,
   "metadata": {},
   "outputs": [
    {
     "name": "stdout",
     "output_type": "stream",
     "text": [
      "[[[   0.037579    0.037054     0.98618     0.94172]\n",
      "  [    0.28989    0.018194     0.98729     0.77295]\n",
      "  [    0.35285     0.17184     0.98716     0.98866]\n",
      "  [   0.070287  -0.0053692     0.96836     0.59008]\n",
      "  [   0.024004     0.59542     0.96977      1.0188]\n",
      "  [  -0.010242    -0.01757     0.24973      1.0113]\n",
      "  [    0.60981    0.026421     0.98409      0.9851]\n",
      "  [   0.042023  0.00097595     0.99275     0.25687]\n",
      "  [   0.013653     0.28989     0.67876     0.98729]\n",
      "  [   0.088822     0.39921     0.93188     0.99465]]]\n",
      "(1, 10, 4)\n"
     ]
    }
   ],
   "source": [
    "import numpy as np\n",
    "import tensorflow as tf\n",
    "\n",
    "batch_size, channels, height, width = 1, 3, 640, 640\n",
    "input_shape = (batch_size, width, height, channels)\n",
    "\n",
    "# Load the TFLite model and allocate tensors\n",
    "interpreter = tf.lite.Interpreter(model_path='mobilenetv1.tflite')\n",
    "interpreter.allocate_tensors()\n",
    "\n",
    "# Get input and output tensors\n",
    "input_details = interpreter.get_input_details()\n",
    "output_details = interpreter.get_output_details()\n",
    "\n",
    "# Test the model on random input data\n",
    "input_shape = input_details[0]['shape']\n",
    "input_data = np.array(np.random.random_sample(input_shape), dtype=np.uint8)\n",
    "interpreter.set_tensor(input_details[0]['index'], input_data)\n",
    "\n",
    "interpreter.invoke()\n",
    "\n",
    "# get_tensor() returns a copy of the tensor data\n",
    "# use tensor() in order to get a pointer to the tensor\n",
    "output_data = interpreter.get_tensor(output_details[0]['index'])\n",
    "print(output_data)\n",
    "print(output_data.shape)"
   ]
  },
  {
   "cell_type": "code",
   "execution_count": null,
   "metadata": {},
   "outputs": [],
   "source": [
    "import torch\n",
    "\n"
   ]
  }
 ],
 "metadata": {
  "kernelspec": {
   "display_name": "yolo7",
   "language": "python",
   "name": "python3"
  },
  "language_info": {
   "codemirror_mode": {
    "name": "ipython",
    "version": 3
   },
   "file_extension": ".py",
   "mimetype": "text/x-python",
   "name": "python",
   "nbconvert_exporter": "python",
   "pygments_lexer": "ipython3",
   "version": "3.10.9"
  },
  "orig_nbformat": 4
 },
 "nbformat": 4,
 "nbformat_minor": 2
}
